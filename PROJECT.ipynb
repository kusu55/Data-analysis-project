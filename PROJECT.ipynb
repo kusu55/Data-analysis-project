{
 "cells": [
  {
   "cell_type": "markdown",
   "id": "a4ba31f8-26a5-44b0-9eb4-fcafbf49f56d",
   "metadata": {},
   "source": [
    "# Problem for Covid - 19 Data Analysis Project using Python"
   ]
  },
  {
   "cell_type": "markdown",
   "id": "7a1427c3-dec5-4976-b38f-2150b732233c",
   "metadata": {},
   "source": [
    "### Importing the dataset"
   ]
  },
  {
   "cell_type": "code",
   "execution_count": 2,
   "id": "cf94bc2a-9275-4d01-b5c3-5fd7660cabd4",
   "metadata": {
    "scrolled": true
   },
   "outputs": [],
   "source": [
    "import pandas as pd\n",
    "\n",
    "url = 'https://raw.githubusercontent.com/SR1608/Datasets/main/covid-data.csv'\n",
    "df = pd.read_csv(url)"
   ]
  },
  {
   "cell_type": "markdown",
   "id": "ad1a0424-dfe9-4554-8111-dbc15518c5f3",
   "metadata": {},
   "source": [
    "### High Level Data Understanding"
   ]
  },
  {
   "cell_type": "code",
   "execution_count": 2,
   "id": "26ed4083-2ddd-47fd-8075-9edef320507f",
   "metadata": {},
   "outputs": [
    {
     "name": "stdout",
     "output_type": "stream",
     "text": [
      "Number of rows: 57394\n",
      "Number of columns: 49\n"
     ]
    }
   ],
   "source": [
    "rows, cols = df.shape\n",
    "print(f\"Number of rows: {rows}\")\n",
    "print(f\"Number of columns: {cols}\")"
   ]
  },
  {
   "cell_type": "code",
   "execution_count": 3,
   "id": "d29eaaf1-bb8f-4b8a-8ce2-3d24764d0422",
   "metadata": {},
   "outputs": [
    {
     "name": "stdout",
     "output_type": "stream",
     "text": [
      "iso_code                               object\n",
      "continent                              object\n",
      "location                               object\n",
      "date                                   object\n",
      "total_cases                           float64\n",
      "new_cases                             float64\n",
      "new_cases_smoothed                    float64\n",
      "total_deaths                          float64\n",
      "new_deaths                            float64\n",
      "new_deaths_smoothed                   float64\n",
      "total_cases_per_million               float64\n",
      "new_cases_per_million                 float64\n",
      "new_cases_smoothed_per_million        float64\n",
      "total_deaths_per_million              float64\n",
      "new_deaths_per_million                float64\n",
      "new_deaths_smoothed_per_million       float64\n",
      "reproduction_rate                     float64\n",
      "icu_patients                          float64\n",
      "icu_patients_per_million              float64\n",
      "hosp_patients                         float64\n",
      "hosp_patients_per_million             float64\n",
      "weekly_icu_admissions                 float64\n",
      "weekly_icu_admissions_per_million     float64\n",
      "weekly_hosp_admissions                float64\n",
      "weekly_hosp_admissions_per_million    float64\n",
      "total_tests                           float64\n",
      "new_tests                             float64\n",
      "total_tests_per_thousand              float64\n",
      "new_tests_per_thousand                float64\n",
      "new_tests_smoothed                    float64\n",
      "new_tests_smoothed_per_thousand       float64\n",
      "tests_per_case                        float64\n",
      "positive_rate                         float64\n",
      "stringency_index                      float64\n",
      "population                            float64\n",
      "population_density                    float64\n",
      "median_age                            float64\n",
      "aged_65_older                         float64\n",
      "aged_70_older                         float64\n",
      "gdp_per_capita                        float64\n",
      "extreme_poverty                       float64\n",
      "cardiovasc_death_rate                 float64\n",
      "diabetes_prevalence                   float64\n",
      "female_smokers                        float64\n",
      "male_smokers                          float64\n",
      "handwashing_facilities                float64\n",
      "hospital_beds_per_thousand            float64\n",
      "life_expectancy                       float64\n",
      "human_development_index               float64\n",
      "dtype: object\n"
     ]
    }
   ],
   "source": [
    "print(df.dtypes)\n"
   ]
  },
  {
   "cell_type": "code",
   "execution_count": 4,
   "id": "ea25cb2b-8cec-4a36-a68f-579cce691d37",
   "metadata": {},
   "outputs": [
    {
     "name": "stdout",
     "output_type": "stream",
     "text": [
      "<class 'pandas.core.frame.DataFrame'>\n",
      "RangeIndex: 57394 entries, 0 to 57393\n",
      "Data columns (total 49 columns):\n",
      " #   Column                              Non-Null Count  Dtype  \n",
      "---  ------                              --------------  -----  \n",
      " 0   iso_code                            57071 non-null  object \n",
      " 1   continent                           56748 non-null  object \n",
      " 2   location                            57394 non-null  object \n",
      " 3   date                                57394 non-null  object \n",
      " 4   total_cases                         53758 non-null  float64\n",
      " 5   new_cases                           56465 non-null  float64\n",
      " 6   new_cases_smoothed                  55652 non-null  float64\n",
      " 7   total_deaths                        44368 non-null  float64\n",
      " 8   new_deaths                          56465 non-null  float64\n",
      " 9   new_deaths_smoothed                 55652 non-null  float64\n",
      " 10  total_cases_per_million             53471 non-null  float64\n",
      " 11  new_cases_per_million               56401 non-null  float64\n",
      " 12  new_cases_smoothed_per_million      55587 non-null  float64\n",
      " 13  total_deaths_per_million            44096 non-null  float64\n",
      " 14  new_deaths_per_million              56401 non-null  float64\n",
      " 15  new_deaths_smoothed_per_million     55587 non-null  float64\n",
      " 16  reproduction_rate                   37696 non-null  float64\n",
      " 17  icu_patients                        4490 non-null   float64\n",
      " 18  icu_patients_per_million            4490 non-null   float64\n",
      " 19  hosp_patients                       5005 non-null   float64\n",
      " 20  hosp_patients_per_million           5005 non-null   float64\n",
      " 21  weekly_icu_admissions               357 non-null    float64\n",
      " 22  weekly_icu_admissions_per_million   357 non-null    float64\n",
      " 23  weekly_hosp_admissions              645 non-null    float64\n",
      " 24  weekly_hosp_admissions_per_million  645 non-null    float64\n",
      " 25  total_tests                         22017 non-null  float64\n",
      " 26  new_tests                           21787 non-null  float64\n",
      " 27  total_tests_per_thousand            22017 non-null  float64\n",
      " 28  new_tests_per_thousand              21787 non-null  float64\n",
      " 29  new_tests_smoothed                  24612 non-null  float64\n",
      " 30  new_tests_smoothed_per_thousand     24612 non-null  float64\n",
      " 31  tests_per_case                      22802 non-null  float64\n",
      " 32  positive_rate                       23211 non-null  float64\n",
      " 33  stringency_index                    47847 non-null  float64\n",
      " 34  population                          57071 non-null  float64\n",
      " 35  population_density                  54371 non-null  float64\n",
      " 36  median_age                          51034 non-null  float64\n",
      " 37  aged_65_older                       50265 non-null  float64\n",
      " 38  aged_70_older                       50768 non-null  float64\n",
      " 39  gdp_per_capita                      50367 non-null  float64\n",
      " 40  extreme_poverty                     33571 non-null  float64\n",
      " 41  cardiovasc_death_rate               51013 non-null  float64\n",
      " 42  diabetes_prevalence                 52881 non-null  float64\n",
      " 43  female_smokers                      39669 non-null  float64\n",
      " 44  male_smokers                        39156 non-null  float64\n",
      " 45  handwashing_facilities              24176 non-null  float64\n",
      " 46  hospital_beds_per_thousand          45936 non-null  float64\n",
      " 47  life_expectancy                     56336 non-null  float64\n",
      " 48  human_development_index             49247 non-null  float64\n",
      "dtypes: float64(45), object(4)\n",
      "memory usage: 21.5+ MB\n",
      "None\n",
      "        total_cases      new_cases  new_cases_smoothed  total_deaths  \\\n",
      "count  5.375800e+04   56465.000000        55652.000000  4.436800e+04   \n",
      "mean   1.677974e+05    1953.576941         1920.431953  6.858639e+03   \n",
      "std    1.693038e+06   18269.650340        17777.391785  5.578081e+04   \n",
      "min    1.000000e+00   -8261.000000         -552.000000  1.000000e+00   \n",
      "25%    1.800000e+02       0.000000            0.857000  1.300000e+01   \n",
      "50%    2.070000e+03      14.000000           19.429000  8.400000e+01   \n",
      "75%    2.235675e+04     235.000000          245.286000  7.270000e+02   \n",
      "max    5.515465e+07  646281.000000       584981.857000  1.328537e+06   \n",
      "\n",
      "         new_deaths  new_deaths_smoothed  total_cases_per_million  \\\n",
      "count  56465.000000         55652.000000             53471.000000   \n",
      "mean      47.054317            46.835439              3139.099982   \n",
      "std      390.853776           378.272794              6183.455260   \n",
      "min    -1918.000000          -232.143000                 0.001000   \n",
      "25%        0.000000             0.000000                90.033000   \n",
      "50%        0.000000             0.286000               593.663000   \n",
      "75%        4.000000             4.000000              3487.050000   \n",
      "max    10600.000000          9027.714000             76541.772000   \n",
      "\n",
      "       new_cases_per_million  new_cases_smoothed_per_million  \\\n",
      "count           56401.000000                    55587.000000   \n",
      "mean               39.344804                       38.403211   \n",
      "std               133.985155                      101.649441   \n",
      "min             -2212.545000                     -269.978000   \n",
      "25%                 0.000000                        0.260000   \n",
      "50%                 2.194000                        3.863000   \n",
      "75%                25.941000                       29.678500   \n",
      "max              8652.658000                     2472.188000   \n",
      "\n",
      "       total_deaths_per_million  ...  gdp_per_capita  extreme_poverty  \\\n",
      "count              44096.000000  ...    50367.000000     33571.000000   \n",
      "mean                  95.335293  ...    20620.172071        12.435453   \n",
      "std                  180.721699  ...    20310.999832        19.427924   \n",
      "min                    0.000000  ...      661.240000         0.100000   \n",
      "25%                    3.977750  ...     5321.444000         0.500000   \n",
      "50%                   20.383000  ...    13913.839000         2.000000   \n",
      "75%                   90.571250  ...    31400.840000        18.100000   \n",
      "max                 1248.014000  ...   116935.600000        77.600000   \n",
      "\n",
      "       cardiovasc_death_rate  diabetes_prevalence  female_smokers  \\\n",
      "count           51013.000000         52881.000000    39669.000000   \n",
      "mean              252.646642             8.070269       10.741569   \n",
      "std               117.522344             4.189605       10.470743   \n",
      "min                79.370000             0.990000        0.100000   \n",
      "25%               156.139000             5.310000        1.900000   \n",
      "50%               238.339000             7.110000        6.400000   \n",
      "75%               318.991000            10.390000       19.600000   \n",
      "max               724.417000            30.530000       44.000000   \n",
      "\n",
      "       male_smokers  handwashing_facilities  hospital_beds_per_thousand  \\\n",
      "count  39156.000000            24176.000000                45936.000000   \n",
      "mean      32.642686               52.089636                    3.089724   \n",
      "std       13.453566               31.645306                    2.513193   \n",
      "min        7.700000                1.188000                    0.100000   \n",
      "25%       21.400000               21.222000                    1.300000   \n",
      "50%       31.400000               52.232000                    2.500000   \n",
      "75%       40.900000               83.741000                    4.200000   \n",
      "max       78.100000               98.999000                   13.800000   \n",
      "\n",
      "       life_expectancy  human_development_index  \n",
      "count     56336.000000             49247.000000  \n",
      "mean         73.937780                 0.722223  \n",
      "std           7.397016                 0.153261  \n",
      "min          53.280000                 0.354000  \n",
      "25%          69.870000                 0.601000  \n",
      "50%          75.345000                 0.752000  \n",
      "75%          79.380000                 0.847000  \n",
      "max          86.750000                 0.953000  \n",
      "\n",
      "[8 rows x 45 columns]\n"
     ]
    }
   ],
   "source": [
    "print(df.info())\n",
    "print(df.describe())\n"
   ]
  },
  {
   "cell_type": "markdown",
   "id": "3a722a38-46bd-4fbb-b4f5-fe5030b924f1",
   "metadata": {},
   "source": [
    "### Low Level Data Understanding"
   ]
  },
  {
   "cell_type": "code",
   "execution_count": 5,
   "id": "4c118860-d3c2-4e3e-b3a9-681ee57a8ac9",
   "metadata": {},
   "outputs": [
    {
     "name": "stdout",
     "output_type": "stream",
     "text": [
      "Number of unique locations: 216\n"
     ]
    }
   ],
   "source": [
    "unique_locations = df['location'].nunique()\n",
    "print(f\"Number of unique locations: {unique_locations}\")\n"
   ]
  },
  {
   "cell_type": "code",
   "execution_count": 6,
   "id": "19fac7f0-49cb-4477-baab-c91c02da4739",
   "metadata": {},
   "outputs": [
    {
     "name": "stdout",
     "output_type": "stream",
     "text": [
      "Continent with maximum frequency: Europe\n"
     ]
    }
   ],
   "source": [
    "continent_counts = df['continent'].value_counts()\n",
    "max_continent = continent_counts.idxmax()\n",
    "print(f\"Continent with maximum frequency: {max_continent}\")\n"
   ]
  },
  {
   "cell_type": "code",
   "execution_count": 7,
   "id": "3f0023e5-386e-479a-ae37-5edef4c6d237",
   "metadata": {},
   "outputs": [
    {
     "name": "stdout",
     "output_type": "stream",
     "text": [
      "Maximum total cases: 55154651.0\n",
      "Mean total cases: 167797.3688753302\n"
     ]
    }
   ],
   "source": [
    "max_total_cases = df['total_cases'].max()\n",
    "mean_total_cases = df['total_cases'].mean()\n",
    "print(f\"Maximum total cases: {max_total_cases}\")\n",
    "print(f\"Mean total cases: {mean_total_cases}\")\n"
   ]
  },
  {
   "cell_type": "code",
   "execution_count": 8,
   "id": "dc70a60a-cf73-44d4-b209-fdf9b0a2371d",
   "metadata": {},
   "outputs": [
    {
     "name": "stdout",
     "output_type": "stream",
     "text": [
      "0.25     13.0\n",
      "0.50     84.0\n",
      "0.75    727.0\n",
      "Name: total_deaths, dtype: float64\n"
     ]
    }
   ],
   "source": [
    "quartiles_total_deaths = df['total_deaths'].quantile([0.25, 0.5, 0.75])\n",
    "print(quartiles_total_deaths)\n"
   ]
  },
  {
   "cell_type": "code",
   "execution_count": 9,
   "id": "ab27d1a1-5781-4ab7-b922-7ef5bb1f6a05",
   "metadata": {},
   "outputs": [
    {
     "name": "stdout",
     "output_type": "stream",
     "text": [
      "Continent with maximum human development index: Europe\n"
     ]
    }
   ],
   "source": [
    "max_hdi_continent = df.groupby('continent')['human_development_index'].max().idxmax()\n",
    "print(f\"Continent with maximum human development index: {max_hdi_continent}\")\n"
   ]
  },
  {
   "cell_type": "code",
   "execution_count": 10,
   "id": "5dfc96d0-f8c2-442b-ba81-84230231f70d",
   "metadata": {},
   "outputs": [
    {
     "name": "stdout",
     "output_type": "stream",
     "text": [
      "Continent with minimum GDP per capita: Africa\n"
     ]
    }
   ],
   "source": [
    "min_gdp_continent = df.groupby('continent')['gdp_per_capita'].min().idxmin()\n",
    "print(f\"Continent with minimum GDP per capita: {min_gdp_continent}\")\n"
   ]
  },
  {
   "cell_type": "markdown",
   "id": "470e9593-fd4d-4993-a90c-c0d9462fa4a2",
   "metadata": {},
   "source": [
    "### Filter the dataframe"
   ]
  },
  {
   "cell_type": "code",
   "execution_count": 11,
   "id": "c5b32c04-f69c-45bc-bf98-bc0b20f946f5",
   "metadata": {},
   "outputs": [
    {
     "data": {
      "text/html": [
       "<div>\n",
       "<style scoped>\n",
       "    .dataframe tbody tr th:only-of-type {\n",
       "        vertical-align: middle;\n",
       "    }\n",
       "\n",
       "    .dataframe tbody tr th {\n",
       "        vertical-align: top;\n",
       "    }\n",
       "\n",
       "    .dataframe thead th {\n",
       "        text-align: right;\n",
       "    }\n",
       "</style>\n",
       "<table border=\"1\" class=\"dataframe\">\n",
       "  <thead>\n",
       "    <tr style=\"text-align: right;\">\n",
       "      <th></th>\n",
       "      <th>continent</th>\n",
       "      <th>location</th>\n",
       "      <th>date</th>\n",
       "      <th>total_cases</th>\n",
       "      <th>total_deaths</th>\n",
       "      <th>gdp_per_capita</th>\n",
       "      <th>human_development_index</th>\n",
       "    </tr>\n",
       "  </thead>\n",
       "  <tbody>\n",
       "    <tr>\n",
       "      <th>0</th>\n",
       "      <td>Asia</td>\n",
       "      <td>Afghanistan</td>\n",
       "      <td>31/12/19</td>\n",
       "      <td>NaN</td>\n",
       "      <td>NaN</td>\n",
       "      <td>1803.987</td>\n",
       "      <td>0.498</td>\n",
       "    </tr>\n",
       "    <tr>\n",
       "      <th>1</th>\n",
       "      <td>Asia</td>\n",
       "      <td>Afghanistan</td>\n",
       "      <td>01/01/20</td>\n",
       "      <td>NaN</td>\n",
       "      <td>NaN</td>\n",
       "      <td>1803.987</td>\n",
       "      <td>0.498</td>\n",
       "    </tr>\n",
       "    <tr>\n",
       "      <th>2</th>\n",
       "      <td>Asia</td>\n",
       "      <td>Afghanistan</td>\n",
       "      <td>02/01/20</td>\n",
       "      <td>NaN</td>\n",
       "      <td>NaN</td>\n",
       "      <td>1803.987</td>\n",
       "      <td>0.498</td>\n",
       "    </tr>\n",
       "    <tr>\n",
       "      <th>3</th>\n",
       "      <td>Asia</td>\n",
       "      <td>Afghanistan</td>\n",
       "      <td>03/01/20</td>\n",
       "      <td>NaN</td>\n",
       "      <td>NaN</td>\n",
       "      <td>1803.987</td>\n",
       "      <td>0.498</td>\n",
       "    </tr>\n",
       "    <tr>\n",
       "      <th>4</th>\n",
       "      <td>Asia</td>\n",
       "      <td>Afghanistan</td>\n",
       "      <td>04/01/20</td>\n",
       "      <td>NaN</td>\n",
       "      <td>NaN</td>\n",
       "      <td>1803.987</td>\n",
       "      <td>0.498</td>\n",
       "    </tr>\n",
       "  </tbody>\n",
       "</table>\n",
       "</div>"
      ],
      "text/plain": [
       "  continent     location      date  total_cases  total_deaths  gdp_per_capita  \\\n",
       "0      Asia  Afghanistan  31/12/19          NaN           NaN        1803.987   \n",
       "1      Asia  Afghanistan  01/01/20          NaN           NaN        1803.987   \n",
       "2      Asia  Afghanistan  02/01/20          NaN           NaN        1803.987   \n",
       "3      Asia  Afghanistan  03/01/20          NaN           NaN        1803.987   \n",
       "4      Asia  Afghanistan  04/01/20          NaN           NaN        1803.987   \n",
       "\n",
       "   human_development_index  \n",
       "0                    0.498  \n",
       "1                    0.498  \n",
       "2                    0.498  \n",
       "3                    0.498  \n",
       "4                    0.498  "
      ]
     },
     "execution_count": 11,
     "metadata": {},
     "output_type": "execute_result"
    }
   ],
   "source": [
    "columns_to_keep = ['continent', 'location', 'date', 'total_cases', 'total_deaths', 'gdp_per_capita', 'human_development_index']\n",
    "df1 = df[columns_to_keep]\n",
    "df1.head()"
   ]
  },
  {
   "cell_type": "markdown",
   "id": "4765f2df-5263-4eeb-b332-855f9a87d05c",
   "metadata": {},
   "source": [
    "### Data Cleaning"
   ]
  },
  {
   "cell_type": "code",
   "execution_count": 12,
   "id": "b9e61793-2793-4656-ace3-760613c9e1df",
   "metadata": {},
   "outputs": [],
   "source": [
    "df = df.drop_duplicates()\n"
   ]
  },
  {
   "cell_type": "code",
   "execution_count": 13,
   "id": "b3efb5b1-3f05-4652-89f9-b82310f1f9e3",
   "metadata": {},
   "outputs": [
    {
     "name": "stdout",
     "output_type": "stream",
     "text": [
      "iso_code                                323\n",
      "continent                               646\n",
      "location                                  0\n",
      "date                                      0\n",
      "total_cases                            3636\n",
      "new_cases                               929\n",
      "new_cases_smoothed                     1742\n",
      "total_deaths                          13026\n",
      "new_deaths                              929\n",
      "new_deaths_smoothed                    1742\n",
      "total_cases_per_million                3923\n",
      "new_cases_per_million                   993\n",
      "new_cases_smoothed_per_million         1807\n",
      "total_deaths_per_million              13298\n",
      "new_deaths_per_million                  993\n",
      "new_deaths_smoothed_per_million        1807\n",
      "reproduction_rate                     19698\n",
      "icu_patients                          52904\n",
      "icu_patients_per_million              52904\n",
      "hosp_patients                         52389\n",
      "hosp_patients_per_million             52389\n",
      "weekly_icu_admissions                 57037\n",
      "weekly_icu_admissions_per_million     57037\n",
      "weekly_hosp_admissions                56749\n",
      "weekly_hosp_admissions_per_million    56749\n",
      "total_tests                           35377\n",
      "new_tests                             35607\n",
      "total_tests_per_thousand              35377\n",
      "new_tests_per_thousand                35607\n",
      "new_tests_smoothed                    32782\n",
      "new_tests_smoothed_per_thousand       32782\n",
      "tests_per_case                        34592\n",
      "positive_rate                         34183\n",
      "stringency_index                       9547\n",
      "population                              323\n",
      "population_density                     3023\n",
      "median_age                             6360\n",
      "aged_65_older                          7129\n",
      "aged_70_older                          6626\n",
      "gdp_per_capita                         7027\n",
      "extreme_poverty                       23823\n",
      "cardiovasc_death_rate                  6381\n",
      "diabetes_prevalence                    4513\n",
      "female_smokers                        17725\n",
      "male_smokers                          18238\n",
      "handwashing_facilities                33218\n",
      "hospital_beds_per_thousand            11458\n",
      "life_expectancy                        1058\n",
      "human_development_index                8147\n",
      "dtype: int64\n"
     ]
    }
   ],
   "source": [
    "missing_values = df.isnull().sum()\n",
    "print(missing_values)\n"
   ]
  },
  {
   "cell_type": "code",
   "execution_count": 14,
   "id": "bc3a9f5c-f434-4259-b4d2-d6e7d11eeae1",
   "metadata": {},
   "outputs": [],
   "source": [
    "df = df.dropna(subset=['continent'])\n"
   ]
  },
  {
   "cell_type": "code",
   "execution_count": 15,
   "id": "122b6d4e-d8ef-442b-a84e-d0cdd5b8cf93",
   "metadata": {},
   "outputs": [],
   "source": [
    "df = df.fillna(0)\n"
   ]
  },
  {
   "cell_type": "markdown",
   "id": "969031c6-4fab-4c8a-878b-f755daa591c5",
   "metadata": {},
   "source": [
    "### Date time format"
   ]
  },
  {
   "cell_type": "code",
   "execution_count": 16,
   "id": "91ce2a37-500d-4f62-933d-d63d19971617",
   "metadata": {},
   "outputs": [
    {
     "name": "stderr",
     "output_type": "stream",
     "text": [
      "/var/folders/md/_259zqt935v9vhqjltc02qs80000gn/T/ipykernel_83544/584440916.py:1: UserWarning: Could not infer format, so each element will be parsed individually, falling back to `dateutil`. To ensure parsing is consistent and as-expected, please specify a format.\n",
      "  df['date'] = pd.to_datetime(df['date'])\n"
     ]
    }
   ],
   "source": [
    "df['date'] = pd.to_datetime(df['date'])\n"
   ]
  },
  {
   "cell_type": "code",
   "execution_count": 17,
   "id": "fb67add6-d8cb-4a45-842d-9659fa4f7ca9",
   "metadata": {},
   "outputs": [],
   "source": [
    "df['month'] = df['date'].dt.month\n"
   ]
  },
  {
   "cell_type": "markdown",
   "id": "f94ee8e9-0632-4224-ae63-17d4f3ad6ea0",
   "metadata": {},
   "source": [
    "### Date time format"
   ]
  },
  {
   "cell_type": "code",
   "execution_count": 18,
   "id": "f05e369c-2af7-4c7f-81bb-53d1e6fa3bb9",
   "metadata": {},
   "outputs": [],
   "source": [
    "df['date'] = pd.to_datetime(df['date'])\n"
   ]
  },
  {
   "cell_type": "code",
   "execution_count": 19,
   "id": "b61b637b-6905-44ef-9d5b-b6b799d82c86",
   "metadata": {},
   "outputs": [],
   "source": [
    "df['month'] = df['date'].dt.month"
   ]
  },
  {
   "cell_type": "markdown",
   "id": "9cd2d72d-f525-4451-ab15-5c923c03e17a",
   "metadata": {},
   "source": [
    "### Data Aggregation"
   ]
  },
  {
   "cell_type": "code",
   "execution_count": 20,
   "id": "33e0c0cf-0fea-48c7-bed0-fba79a63c3d9",
   "metadata": {},
   "outputs": [],
   "source": [
    "df_groupby = df.groupby('continent').max().reset_index()\n"
   ]
  },
  {
   "cell_type": "markdown",
   "id": "d0e806b4-dfdd-42a7-abcb-fc4bc2a9941c",
   "metadata": {},
   "source": [
    "### Feature Engineering"
   ]
  },
  {
   "cell_type": "code",
   "execution_count": 21,
   "id": "425df350-9b20-4283-9957-0dfd554ef9e8",
   "metadata": {},
   "outputs": [],
   "source": [
    "df_groupby['total_deaths_to_total_cases'] = df_groupby['total_deaths'] / df_groupby['total_cases']\n"
   ]
  },
  {
   "cell_type": "markdown",
   "id": "4529d76e-ec92-4f87-b21e-296f5ab43d9f",
   "metadata": {},
   "source": [
    "### Data Visualization"
   ]
  },
  {
   "cell_type": "code",
   "execution_count": 22,
   "id": "f4663642-1f94-4f69-9949-cc534aa59d9f",
   "metadata": {},
   "outputs": [],
   "source": [
    "import seaborn as sns\n",
    "import matplotlib.pyplot as plt"
   ]
  },
  {
   "cell_type": "code",
   "execution_count": 23,
   "id": "7b5b2234-1979-4c0a-a377-93a7252f7048",
   "metadata": {},
   "outputs": [
    {
     "data": {
      "image/png": "[encoded data removed]",
      "text/plain": [
       "<Figure size 640x480 with 1 Axes>"
      ]
     },
     "metadata": {},
     "output_type": "display_data"
    }
   ],
   "source": [
    "sns.histplot(df['gdp_per_capita'].dropna(), kde=True)\n",
    "plt.show()\n"
   ]
  },
  {
   "cell_type": "code",
   "execution_count": 24,
   "id": "ae2d0186-4973-4900-905b-8d624a7905d2",
   "metadata": {},
   "outputs": [
    {
     "data": {
      "image/png": "[encoded data removed]",
      "text/plain": [
       "<Figure size 640x480 with 1 Axes>"
      ]
     },
     "metadata": {},
     "output_type": "display_data"
    }
   ],
   "source": [
    "sns.scatterplot(data=df, x='total_cases', y='gdp_per_capita')\n",
    "plt.show()\n"
   ]
  },
  {
   "cell_type": "code",
   "execution_count": null,
   "id": "5e318bca-98fb-4935-9754-8f77d4da96ef",
   "metadata": {},
   "outputs": [],
   "source": [
    "sns.pairplot(df_groupby)\n",
    "plt.show()"
   ]
  },
  {
   "cell_type": "code",
   "execution_count": null,
   "id": "a56fa58e-38f7-49a9-a70b-72b21a18644d",
   "metadata": {},
   "outputs": [],
   "source": [
    "sns.catplot(data=df_groupby, x='continent', y='total_cases', kind='bar')\n",
    "plt.show()\n"
   ]
  },
  {
   "cell_type": "markdown",
   "id": "b4e062d3-5aa6-4451-8fae-0a0577d50c31",
   "metadata": {},
   "source": [
    "### Saving the df_groupby dataframe in my local drive"
   ]
  },
  {
   "cell_type": "code",
   "execution_count": null,
   "id": "279c2211-8f8e-4fc1-bd24-84eb872000cd",
   "metadata": {},
   "outputs": [],
   "source": [
    "df_groupby.to_csv('df_groupby.csv', index=False)\n"
   ]
  }
 ],
 "metadata": {
  "kernelspec": {
   "display_name": "Python 3.9.13 ('base')",
   "language": "python",
   "name": "python3"
  },
  "language_info": {
   "codemirror_mode": {
    "name": "ipython",
    "version": 3
   },
   "file_extension": ".py",
   "mimetype": "text/x-python",
   "name": "python",
   "nbconvert_exporter": "python",
   "pygments_lexer": "ipython3",
   "version": "3.9.13"
  },
  "vscode": {
   "interpreter": {
    "hash": "982541fc056030d23f73c3d8bcabe6962e4fed5fa0b258bb6368808a161e2052"
   }
  }
 },
 "nbformat": 4,
 "nbformat_minor": 5
}
